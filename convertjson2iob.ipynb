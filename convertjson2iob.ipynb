{
 "cells": [
  {
   "cell_type": "code",
   "execution_count": 1,
   "id": "e679f844",
   "metadata": {},
   "outputs": [
    {
     "name": "stdout",
     "output_type": "stream",
     "text": [
      "[['લક્ઝરી O', 'સેન્ટ B-LOC', 'એન્ડ્રુ I-LOC', 'માતાનો I-LOC', 'ચર્ચ I-LOC'], ['આ O', 'દિવસે O', 'ભગવાન O', 'ગણેશની B-PER', 'પૂજાનું O', 'વધારે O', 'મહત્ત્વ O', 'છે O', '. O'], ['આદુ O', 'પાવડર O', '- O', '1 O', 'ટીસ્પૂન O'], ['તે O', 'સમયે O', 'સુભાષ B-PER', 'કાલાબુરાગી B-PER', 'શહેરમાં O', 'MR B-ORG', 'મેડિકલ I-ORG', 'કોલેજના I-ORG', 'ત્રીજા O', 'વર્ષનો O', 'વિદ્યાર્થી O', 'હતો O', '. O'], ['ઓરેન્જ B-ORG', 'ઓરા I-ORG'], ['આ O', 'પહેલાં O', 'તેઓ O', 'બેંગલુરુ B-LOC', 'રેકોર્ડિંગ O', 'કંપનીમાં O', 'ટ્રાન્સલેટર O', 'તરીકે O', 'કાર્ય O', 'કરતી O', 'હતી O', '. O'], ['5 O', 'રાજ્યોની O', 'ચૂંટણીઃ O', 'તેલંગાણા B-LOC', 'અને O', 'મઝોરમમાં B-LOC', 'બીજેપીને B-ORG', 'કોઈએ O', 'તક O', 'નથી O', 'આપી O', '. O'], ['આસ્તિકવાદની O', 'મર્યાદાઓ O'], ['કાર્તિક B-PER', 'આર્યન I-PER', 'ઘણો O', 'ફની O', 'છે O', ': O', 'અનન્યા B-PER', 'પાન્ડે I-PER'], ['અમેરિકના B-LOC', 'નાણા O', 'મંત્રાલયે O', 'ભારતીય B-LOC', 'મુદ્રાને O', 'પોતાની O', 'મોનિટરીંગ O', 'લીસ્ટમાંથી O', 'હટાવી O', 'દીધી O', 'છે O', '. O']]\n"
     ]
    }
   ],
   "source": [
    "import json\n",
    "\n",
    "json_fp = \"/Users/sanskriti/Documents/NAMED ENTITY RECOGNITION/gu_IndicNER_v1.0/gu_train.json\"\n",
    "with open(json_fp, 'r', encoding='utf-8') as json_file:\n",
    "    data = json_file.readlines()\n",
    "\n",
    "iob_version = []\n",
    "\n",
    "for line in data:\n",
    "    ele = json.loads(line) \n",
    "\n",
    "    words = ele['words']\n",
    "    ner_tags = ele['ner']\n",
    "    iob_ele = [f\"{w} {n}\" for w, n in zip(words, ner_tags)]\n",
    "    iob_version.append(iob_ele)\n",
    "#print(iob_version[:10])"
   ]
  },
  {
   "cell_type": "code",
   "execution_count": 3,
   "id": "26854e5e",
   "metadata": {},
   "outputs": [],
   "source": [
    "iob_fp = \"/Users/sanskriti/Documents/NAMED ENTITY RECOGNITION/gu_train.iob\"\n",
    "with open(iob_fp, 'w', encoding='utf-8') as iob_file:\n",
    "    count=0\n",
    "    iob_file.write('-DOCSTART-\\tO\\n\\n')\n",
    "    for iob_ele in iob_version[:500]:\n",
    "        iob_file.write('\\n'.join(iob_ele))\n",
    "        iob_file.write('\\n')\n",
    "        count+=1\n",
    "        if (count>=10):\n",
    "            iob_file.write('-DOCSTART-\\tO\\n\\n')\n",
    "            count=0"
   ]
  },
  {
   "cell_type": "code",
   "execution_count": null,
   "id": "3d126660",
   "metadata": {},
   "outputs": [],
   "source": []
  }
 ],
 "metadata": {
  "kernelspec": {
   "display_name": "Python 3 (ipykernel)",
   "language": "python",
   "name": "python3"
  },
  "language_info": {
   "codemirror_mode": {
    "name": "ipython",
    "version": 3
   },
   "file_extension": ".py",
   "mimetype": "text/x-python",
   "name": "python",
   "nbconvert_exporter": "python",
   "pygments_lexer": "ipython3",
   "version": "3.8.17"
  }
 },
 "nbformat": 4,
 "nbformat_minor": 5
}
