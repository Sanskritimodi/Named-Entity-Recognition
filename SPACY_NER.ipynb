{
 "cells": [
  {
   "cell_type": "code",
   "execution_count": 26,
   "id": "3f66e13f",
   "metadata": {},
   "outputs": [],
   "source": [
    "import spacy\n",
    "\n",
    "file_path = 'data/gu_train.iob'\n",
    "\n",
    "with open(file_path, 'r', encoding='utf-8') as file:\n",
    "    train_data = file.read()\n"
   ]
  },
  {
   "cell_type": "code",
   "execution_count": 27,
   "id": "cae249bf",
   "metadata": {},
   "outputs": [
    {
     "name": "stdout",
     "output_type": "stream",
     "text": [
      "\u001b[38;5;4mℹ Auto-detected token-per-line NER format\u001b[0m\n",
      "\u001b[38;5;4mℹ Grouping every 1 sentences into a document.\u001b[0m\n",
      "\u001b[38;5;3m⚠ To generate better training data, you may want to group sentences\n",
      "into documents with `-n 10`.\u001b[0m\n",
      "\u001b[38;5;2m✔ Generated output file (51 documents): data/gu_train.spacy\u001b[0m\n"
     ]
    }
   ],
   "source": [
    "!python3 -m spacy convert data/gu_train.iob data/ -c iob"
   ]
  },
  {
   "cell_type": "code",
   "execution_count": 30,
   "id": "f6c048a7",
   "metadata": {},
   "outputs": [
    {
     "name": "stdout",
     "output_type": "stream",
     "text": [
      "\u001b[38;5;2m✔ Auto-filled config with all values\u001b[0m\r\n",
      "\u001b[38;5;2m✔ Saved config\u001b[0m\r\n",
      "config.cfg\r\n",
      "You can now add your data and train your pipeline:\r\n",
      "python -m spacy train config.cfg --paths.train ./train.spacy --paths.dev ./dev.spacy\r\n"
     ]
    }
   ],
   "source": [
    "!python -m spacy init fill-config ./base_config.cfg ./config.cfg"
   ]
  },
  {
   "cell_type": "code",
   "execution_count": 31,
   "id": "22420ace",
   "metadata": {},
   "outputs": [
    {
     "name": "stdout",
     "output_type": "stream",
     "text": [
      "\u001b[38;5;4mℹ Saving to output directory: models\u001b[0m\n",
      "\u001b[38;5;4mℹ Using CPU\u001b[0m\n",
      "\u001b[1m\n",
      "=========================== Initializing pipeline ===========================\u001b[0m\n",
      "[2023-08-21 10:21:16,888] [INFO] Set up nlp object from config\n",
      "[2023-08-21 10:21:16,894] [INFO] Pipeline: ['tok2vec', 'ner']\n",
      "[2023-08-21 10:21:16,896] [INFO] Created vocabulary\n",
      "[2023-08-21 10:21:16,896] [INFO] Finished initializing nlp object\n",
      "[2023-08-21 10:21:18,797] [INFO] Initialized pipeline components: ['tok2vec', 'ner']\n",
      "\u001b[38;5;2m✔ Initialized pipeline\u001b[0m\n",
      "\u001b[1m\n",
      "============================= Training pipeline =============================\u001b[0m\n",
      "\u001b[38;5;4mℹ Pipeline: ['tok2vec', 'ner']\u001b[0m\n",
      "\u001b[38;5;4mℹ Initial learn rate: 0.001\u001b[0m\n",
      "E    #       LOSS TOK2VEC  LOSS NER  ENTS_F  ENTS_P  ENTS_R  SCORE \n",
      "---  ------  ------------  --------  ------  ------  ------  ------\n",
      "  0       0          0.00     70.14    1.43    2.53    1.00    0.01\n",
      "  3     200        810.91   4524.73   70.62   71.61   69.65    0.71\n",
      "  7     400         80.57   1224.47   91.82   92.22   91.42    0.92\n",
      " 11     600         62.44    605.01   97.51   97.63   97.39    0.98\n",
      " 16     800         50.78    372.57   97.32   97.38   97.26    0.97\n",
      " 21    1000         60.90    284.68   98.31   98.75   97.89    0.98\n",
      "^C\n",
      "\n",
      "Aborted!\n"
     ]
    }
   ],
   "source": [
    "!python3 -m spacy train config.cfg --output models/ --paths.train ./data/gu_train.spacy --paths.dev ./data/gu_train.spacy "
   ]
  },
  {
   "cell_type": "code",
   "execution_count": null,
   "id": "465b55f2",
   "metadata": {},
   "outputs": [],
   "source": [
    "nlp="
   ]
  },
  {
   "cell_type": "code",
   "execution_count": null,
   "id": "89d6e77c",
   "metadata": {},
   "outputs": [],
   "source": []
  }
 ],
 "metadata": {
  "kernelspec": {
   "display_name": "Python 3 (ipykernel)",
   "language": "python",
   "name": "python3"
  },
  "language_info": {
   "codemirror_mode": {
    "name": "ipython",
    "version": 3
   },
   "file_extension": ".py",
   "mimetype": "text/x-python",
   "name": "python",
   "nbconvert_exporter": "python",
   "pygments_lexer": "ipython3",
   "version": "3.8.17"
  }
 },
 "nbformat": 4,
 "nbformat_minor": 5
}
